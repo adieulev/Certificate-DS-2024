{
 "cells": [
  {
   "cell_type": "code",
   "execution_count": null,
   "id": "9b39b2f9",
   "metadata": {},
   "outputs": [],
   "source": [
    "import numpy as np\n",
    "from sklearn.datasets import fetch_openml\n",
    "from sklearn.model_selection import train_test_split\n",
    "from sklearn.preprocessing import StandardScaler\n",
    "from sklearn.metrics import accuracy_score\n",
    "import matplotlib.pyplot as plt\n",
    "\n",
    "import warnings\n",
    "warnings.filterwarnings('ignore')"
   ]
  },
  {
   "cell_type": "code",
   "execution_count": null,
   "id": "f6cba669",
   "metadata": {},
   "outputs": [],
   "source": [
    "print('\\n\\n(If this cell runs for more than 30 seconds, stop it and rerun it.) \\n\\n')\n",
    "\n",
    "import requests\n",
    "exec(requests.get(\"https://raw.githubusercontent.com/claireBoyer/tutorial-conformal-prediction/main/labs/aux-npt/get-send-code.html\").content)\n",
    "\n",
    "\n",
    "# Replace 'TO_UPDATE' with the appropriate session information\n",
    "npt_config = {'session_name': 'Lab_MWE_ML_Certif',}\n",
    "\n",
    "\n",
    "# Prompt for the sender's name\n",
    "npt_config['sender_name'] = input(\"Enter your name: \\n -->\")\n",
    "npt_config['session_owner'] = \"Aymeric\" #  \n",
    "\n",
    "print('\\n \\n You should get as an output <Response [200]> below.')\n",
    "# \n",
    "\n",
    "send('started', 0)"
   ]
  },
  {
   "cell_type": "code",
   "execution_count": null,
   "id": "2dd573c6",
   "metadata": {},
   "outputs": [],
   "source": [
    "# Fetching the MNIST dataset\n",
    "mnist = fetch_openml('mnist_784', version=1)\n",
    "X, y = mnist[\"data\"], mnist[\"target\"]\n",
    "\n",
    "# Setting aside 10% of the data\n",
    "X_train, X_test, y_train, y_test = # YOUR CODE OR ANSWER HERE\n"
   ]
  },
  {
   "cell_type": "code",
   "execution_count": null,
   "id": "470e5a04",
   "metadata": {},
   "outputs": [],
   "source": [
    "# Scaling the data\n",
    "scaler = StandardScaler()\n",
    "X_train_scaled = scaler.fit_transform(X_train.astype(np.float64))\n",
    "X_test_scaled = scaler.transform(X_test.astype(np.float64))"
   ]
  },
  {
   "cell_type": "markdown",
   "id": "7bff0fbd",
   "metadata": {},
   "source": [
    "## Showing digits"
   ]
  },
  {
   "cell_type": "code",
   "execution_count": null,
   "id": "c82f7553",
   "metadata": {},
   "outputs": [],
   "source": [
    "# Load MNIST data from OpenML\n",
    "X = np.array(X_train).reshape(-1, 28, 28)  # Reshape the data to 28x28 images\n",
    "def plot_digits(instances, images_per_row=5, **options):\n",
    "    size = 28\n",
    "    images_per_row = min(len(instances), images_per_row)\n",
    "    n_rows = (len(instances) - 1) // images_per_row + 1\n",
    "    row_images = []\n",
    "    n_empty = n_rows * images_per_row - len(instances)\n",
    "    instances = np.concatenate([instances, np.zeros((n_empty, size, size))], axis=0)\n",
    "    for row in range(n_rows):\n",
    "        rimages = instances[row * images_per_row : (row + 1) * images_per_row]\n",
    "        row_images.append(np.concatenate(rimages, axis=1))\n",
    "    image = np.concatenate(row_images, axis=0)\n",
    "    plt.imshow(image, cmap=plt.cm.binary, **options)\n",
    "    plt.axis(\"off\")\n",
    "\n",
    "# Choose how many digits you want to display\n",
    "n_digits = 15\n",
    "# Plot digits\n",
    "plot_digits(X[:n_digits], images_per_row=5) \n",
    "send(plt, 1)\n",
    "plt.show()\n"
   ]
  },
  {
   "cell_type": "markdown",
   "id": "fa076f2a",
   "metadata": {},
   "source": [
    "# Fitting a method"
   ]
  },
  {
   "cell_type": "code",
   "execution_count": null,
   "id": "34ab5166",
   "metadata": {},
   "outputs": [],
   "source": [
    "X_fit, X_val, y_fit, y_val = train_test_split(X_train,  y_train, \n",
    "                                              test_size=0.2, random_state=42)\n"
   ]
  },
  {
   "cell_type": "code",
   "execution_count": null,
   "id": "0507c826",
   "metadata": {
    "scrolled": true
   },
   "outputs": [],
   "source": [
    "from sklearn.tree import DecisionTreeClassifier\n",
    "\n",
    "dt_clf = # YOUR CODE OR ANSWER HERE\n",
    "# YOUR CODE OR ANSWER HERE\n"
   ]
  },
  {
   "cell_type": "code",
   "execution_count": null,
   "id": "e2bd8ec5",
   "metadata": {},
   "outputs": [],
   "source": [
    "predictions = dt_clf.predict(X_train_scaled[:16])\n",
    "fig, axes = plt.subplots(1, 8, figsize=(10, 2))  # Adjust the figure size as needed\n",
    "for i, ax in enumerate(axes):\n",
    "    ax.imshow(X_train_scaled[i].reshape(28, 28), cmap=plt.cm.gray_r, interpolation='nearest')\n",
    "    ax.set_title(f\"Predicted: {predictions[i]}\\nTrue: {y_train.iloc[i]}\")\n",
    "    ax.axis('off')\n",
    "send(plt, 2)\n",
    "\n",
    "plt.show()\n"
   ]
  },
  {
   "cell_type": "code",
   "execution_count": null,
   "id": "eb665189",
   "metadata": {},
   "outputs": [],
   "source": [
    "from sklearn.ensemble import RandomForestClassifier\n",
    "\n",
    "rf_clf = RandomForestClassifier(n_estimators=10,random_state=42)\n",
    "rf_clf.fit(X_fit, y_fit)"
   ]
  },
  {
   "cell_type": "code",
   "execution_count": null,
   "id": "9d5713be",
   "metadata": {},
   "outputs": [],
   "source": [
    "from sklearn.linear_model import LogisticRegression\n",
    "\n",
    "log_reg = LogisticRegression(multi_class=\"multinomial\", solver=\"lbfgs\", max_iter=100, random_state=42)\n",
    "log_reg.fit(X_fit, y_fit)"
   ]
  },
  {
   "cell_type": "code",
   "execution_count": null,
   "id": "5bc223d4",
   "metadata": {},
   "outputs": [],
   "source": [
    "from sklearn.neural_network import MLPClassifier\n",
    "\n",
    "mlp_clf = MLPClassifier(random_state=42)\n",
    "mlp_clf.fit(X_fit, y_fit)\n",
    "# mlp_predictions = mlp_clf.predict(X_test_scaled)\n",
    "# print(\"MLP Classifier Accuracy:\", accuracy_score(y_test, mlp_predictions))"
   ]
  },
  {
   "cell_type": "code",
   "execution_count": null,
   "id": "4f278904",
   "metadata": {},
   "outputs": [],
   "source": [
    "from sklearn.svm import SVC\n",
    "\n",
    "svm_clf = SVC()\n",
    "svm_clf.fit(X_fit, y_fit)\n",
    "# svm_predictions = svm_clf.predict(X_test_scaled)\n",
    "# print(\"SVM Accuracy:\", accuracy_score(y_test, svm_predictions))"
   ]
  },
  {
   "cell_type": "markdown",
   "id": "a66f1750",
   "metadata": {},
   "source": [
    "## Getting Test accuracy"
   ]
  },
  {
   "cell_type": "markdown",
   "id": "d471c977",
   "metadata": {},
   "source": [
    "# Obtain **Accuracies** on dataset to fit (train accuracy)"
   ]
  },
  {
   "cell_type": "code",
   "execution_count": null,
   "id": "a197cecd",
   "metadata": {},
   "outputs": [],
   "source": [
    "print(\n",
    "    f\"On the dataset used to fit, the decision tree has \"\n",
    "    f\"{100 * dt_clf.score(X_fit, y_fit):.1f}% accuracy\"\n",
    ")\n",
    "print(\n",
    "    f\"On the dataset used to fit, the random forest has \"\n",
    "    f\"{100 * rf_clf.score(X_fit, y_fit):.1f}% accuracy\"\n",
    ")\n",
    "print(\n",
    "    f\"On the dataset used to fit, the logistic regresssion has \"\n",
    "    f\"{100 * log_reg.score(X_fit, y_fit):.2f}% accuracy\"\n",
    ")"
   ]
  },
  {
   "cell_type": "markdown",
   "id": "c992cced",
   "metadata": {},
   "source": [
    "<div style=\"background-color: orange; color: black; padding: 10px;\">\n",
    "Is this what we want? \n",
    "No, we want to perform well on points we have not seen during training !!\n",
    "\n",
    "--> Test data\n",
    "</div>"
   ]
  },
  {
   "cell_type": "markdown",
   "id": "5ee15cf7",
   "metadata": {},
   "source": [
    "# Obtain Validation Accuracies"
   ]
  },
  {
   "cell_type": "code",
   "execution_count": null,
   "id": "9cb6ba92",
   "metadata": {},
   "outputs": [],
   "source": [
    "print(\n",
    "    f\"On the dataset left aside for the fitting part, the decision tree has \"\n",
    "    f\"{100 * dt_clf.score(X_val, y_val):.1f}% accuracy\"\n",
    ")\n",
    "print(\n",
    "    f\"On the dataset left aside for the fitting part, the random forest has \"\n",
    "    f\"{100 * rf_clf.score(X_val, y_val):.1f}% accuracy\"\n",
    ")\n",
    "print(\n",
    "    f\"On the dataset left aside for the fitting part, the logistic regresssion has \"\n",
    "    f\"{100 * log_reg.score(X_val, y_val):.2f}% accuracy\"\n",
    ")"
   ]
  },
  {
   "cell_type": "markdown",
   "id": "3ed1e176",
   "metadata": {},
   "source": [
    "# Further"
   ]
  },
  {
   "cell_type": "code",
   "execution_count": null,
   "id": "80484c39",
   "metadata": {},
   "outputs": [],
   "source": [
    "from sklearn.tree import DecisionTreeClassifier\n",
    "\n",
    "dt_clf = DecisionTreeClassifier(random_state=42)\n",
    "dt_clf.fit(X_train_scaled, y_train)\n",
    "dt_predictions = # YOUR CODE OR ANSWER HERE\n",
    "test_accuracy = # YOUR CODE OR ANSWER HERE\n",
    "print(\"Decision Tree Accuracy:\", test_accuracy)"
   ]
  },
  {
   "cell_type": "code",
   "execution_count": null,
   "id": "6d0a17cb",
   "metadata": {},
   "outputs": [],
   "source": [
    "predictions = dt_clf.predict(X_test_scaled[:16])\n",
    "fig, axes = plt.subplots(1, 8, figsize=(10, 2))  # Adjust the figure size as needed\n",
    "for i, ax in enumerate(axes):\n",
    "    ax.imshow(X_test_scaled[i].reshape(28, 28), cmap=plt.cm.gray_r, interpolation='nearest')\n",
    "    ax.set_title(f\"Predicted: {predictions[i]}\\nTrue: {y_test.iloc[i]}\")\n",
    "    ax.axis('off')\n",
    "\n",
    "send(plt, 3)\n",
    "plt.show()\n"
   ]
  },
  {
   "cell_type": "code",
   "execution_count": null,
   "id": "221f8803",
   "metadata": {},
   "outputs": [],
   "source": [
    "from sklearn.ensemble import RandomForestClassifier\n",
    "\n",
    "rf_clf = RandomForestClassifier(n_estimators=10,random_state=42)\n",
    "rf_clf.fit(X_train_scaled, y_train)\n",
    "rf_predictions = rf_clf.predict(X_test_scaled)\n",
    "print(\"Random Forest Accuracy:\", accuracy_score(y_test, rf_predictions))"
   ]
  },
  {
   "cell_type": "code",
   "execution_count": null,
   "id": "dcdf126e",
   "metadata": {},
   "outputs": [],
   "source": [
    "from sklearn.linear_model import LogisticRegression\n",
    "\n",
    "log_reg = LogisticRegression(multi_class=\"multinomial\", solver=\"lbfgs\", max_iter=100, random_state=42)\n",
    "log_reg.fit(X_train_scaled, y_train)\n",
    "log_predictions = log_reg.predict(X_test_scaled)\n",
    "print(\"Logistic Regression Accuracy:\", accuracy_score(y_test, log_predictions))"
   ]
  },
  {
   "cell_type": "code",
   "execution_count": null,
   "id": "3377c3cb",
   "metadata": {},
   "outputs": [],
   "source": [
    "from sklearn.neural_network import MLPClassifier\n",
    "\n",
    "mlp_clf = MLPClassifier(random_state=42)\n",
    "mlp_clf.fit(X_train_scaled, y_train)\n",
    "mlp_predictions = mlp_clf.predict(X_test_scaled)\n",
    "print(\"MLP Classifier Accuracy:\", accuracy_score(y_test, mlp_predictions))"
   ]
  },
  {
   "cell_type": "code",
   "execution_count": null,
   "id": "b9995d19",
   "metadata": {},
   "outputs": [],
   "source": [
    "from sklearn.svm import SVC\n",
    "\n",
    "svm_clf = SVC()\n",
    "svm_clf.fit(X_train_scaled, y_train)\n",
    "svm_predictions = svm_clf.predict(X_test_scaled)\n",
    "print(\"SVM Accuracy:\", accuracy_score(y_test, svm_predictions))"
   ]
  },
  {
   "cell_type": "markdown",
   "id": "c1883b2c",
   "metadata": {},
   "source": [
    "## Cross Validation"
   ]
  },
  {
   "cell_type": "code",
   "execution_count": null,
   "id": "1c359faf",
   "metadata": {},
   "outputs": [],
   "source": [
    "import numpy as np\n",
    "import pandas as pd\n",
    "from sklearn.datasets import fetch_openml\n",
    "from sklearn.model_selection import train_test_split, cross_val_score, StratifiedKFold\n",
    "from sklearn.preprocessing import StandardScaler\n",
    "from sklearn.tree import DecisionTreeClassifier\n",
    "from sklearn.ensemble import RandomForestClassifier\n",
    "from sklearn.linear_model import LogisticRegression\n",
    "from sklearn.neural_network import MLPClassifier\n",
    "from sklearn.svm import SVC"
   ]
  },
  {
   "cell_type": "code",
   "execution_count": null,
   "id": "b4c59ba2",
   "metadata": {},
   "outputs": [],
   "source": []
  },
  {
   "cell_type": "markdown",
   "id": "986a313f",
   "metadata": {},
   "source": [
    "<div style=\"background-color: orange; color: black; padding: 10px;\">\n",
    "Feel free to add your favortie model below\n",
    "</div>"
   ]
  },
  {
   "cell_type": "code",
   "execution_count": null,
   "id": "974f0cc7",
   "metadata": {},
   "outputs": [],
   "source": [
    "models = {\n",
    "    \"Decision Tree\": DecisionTreeClassifier(random_state=42),\n",
    "    \"Random Forest\": RandomForestClassifier(n_estimators=10,random_state=42),\n",
    "    \"Logistic Regression\": LogisticRegression(multi_class=\"multinomial\", solver=\"lbfgs\", max_iter=100, random_state=42),\n",
    "    \"MLP Classifier\": MLPClassifier(random_state=42),\n",
    "    \"SVM\": SVC()\n",
    "}"
   ]
  },
  {
   "cell_type": "code",
   "execution_count": null,
   "id": "3d937651",
   "metadata": {},
   "outputs": [],
   "source": [
    "cv_results = {}\n",
    "\n",
    "for name, model in models.items():\n",
    "    kfold = StratifiedKFold(n_splits=5, shuffle=True, random_state=42)\n",
    "    cv_score = cross_val_score(model, X_train, y_train, cv=kfold, scoring=\"accuracy\")\n",
    "    cv_results[name] = cv_score\n",
    "    print(f\"{name}: Mean CV accuracy={np.mean(cv_score)}, Std Deviation={np.std(cv_score)}\")"
   ]
  },
  {
   "cell_type": "code",
   "execution_count": null,
   "id": "99ad56f6",
   "metadata": {},
   "outputs": [],
   "source": [
    "# Convert results to DataFrame for better visualization\n",
    "results_df = pd.DataFrame(cv_results)\n",
    "send(np.array(results_df) , 4)\n",
    "\n",
    "results_df\n"
   ]
  },
  {
   "cell_type": "code",
   "execution_count": null,
   "id": "f812c9b8",
   "metadata": {},
   "outputs": [],
   "source": [
    "# Descriptive statistics can also be helpful\n",
    "send(np.array(results_df.describe()) , 5)\n",
    "results_df.describe()"
   ]
  },
  {
   "cell_type": "markdown",
   "id": "0c3aa339",
   "metadata": {},
   "source": [
    "## Leveraging grid search CV\n"
   ]
  },
  {
   "cell_type": "code",
   "execution_count": null,
   "id": "6b0ed604",
   "metadata": {
    "scrolled": true
   },
   "outputs": [],
   "source": [
    "from sklearn.model_selection import GridSearchCV\n",
    "\n",
    "# Example for SVM\n",
    "param_grid = {\n",
    "    'C': [1, 10, 100],\n",
    "    'gamma': [0.001, 0.01, 0.1],\n",
    "}\n",
    "grid_search = GridSearchCV(SVC(), param_grid, cv=3, verbose=2)\n",
    "grid_search.fit(X_train_scaled[:10000], y_train[:10000])  # Reduced data size for quicker execution\n",
    "\n",
    "print(\"Best parameters:\", grid_search.best_params_)\n",
    "print(\"Best cross-validation accuracy:\", grid_search.best_score_)\n",
    "best_model = grid_search.best_estimator_\n",
    "final_predictions = best_model.predict(X_test_scaled)\n",
    "print(\"Test set accuracy:\", accuracy_score(y_test, final_predictions))"
   ]
  },
  {
   "cell_type": "code",
   "execution_count": null,
   "id": "df499e26",
   "metadata": {},
   "outputs": [],
   "source": [
    "pd.DataFrame(grid_search.cv_results_)"
   ]
  },
  {
   "cell_type": "code",
   "execution_count": null,
   "id": "2c587c9d",
   "metadata": {},
   "outputs": [],
   "source": []
  }
 ],
 "metadata": {
  "kernelspec": {
   "display_name": "Python 3 (ipykernel)",
   "language": "python",
   "name": "python3"
  },
  "language_info": {
   "codemirror_mode": {
    "name": "ipython",
    "version": 3
   },
   "file_extension": ".py",
   "mimetype": "text/x-python",
   "name": "python",
   "nbconvert_exporter": "python",
   "pygments_lexer": "ipython3",
   "version": "3.11.5"
  }
 },
 "nbformat": 4,
 "nbformat_minor": 5
}
